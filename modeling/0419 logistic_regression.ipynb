{
 "cells": [
  {
   "cell_type": "code",
   "execution_count": 2,
   "metadata": {},
   "outputs": [],
   "source": [
    "import pandas as pd\n",
    "import numpy as np\n",
    "from sklearn.model_selection import train_test_split\n",
    "from sklearn.metrics import accuracy_score, precision_score, recall_score, f1_score, confusion_matrix\n",
    "from sklearn.ensemble import RandomForestClassifier\n",
    "import matplotlib.pyplot as plt"
   ]
  },
  {
   "cell_type": "code",
   "execution_count": 3,
   "metadata": {},
   "outputs": [],
   "source": [
    "# function to concat the data\n",
    "def concat_data(positive_file_name, negative_file_name):\n",
    "    df_positive = pd.read_csv(positive_file_name)\n",
    "    df_negative = pd.read_csv(negative_file_name)\n",
    "    # Concatenate the data\n",
    "    n_rows = df_positive.shape[0]\n",
    "    df_negative_sampled = df_negative.sample(n=n_rows, random_state=42)\n",
    "    df_combine = pd.concat([df_positive, df_negative_sampled])\n",
    "    return df_combine"
   ]
  },
  {
   "cell_type": "code",
   "execution_count": 4,
   "metadata": {},
   "outputs": [],
   "source": [
    "df_train = concat_data(\"2022_TP_total.csv\", \"2022_FP_total.csv\")"
   ]
  },
  {
   "cell_type": "code",
   "execution_count": 5,
   "metadata": {},
   "outputs": [],
   "source": [
    "df_test = concat_data(\"2021_TP_total.csv\", \"2021_FP_total.csv\")"
   ]
  },
  {
   "cell_type": "code",
   "execution_count": 6,
   "metadata": {},
   "outputs": [],
   "source": [
    "# function to preprocess the data\n",
    "def preprocess_data(df):\n",
    "    df[\"lightning\"] = (df[\"lightning\"] > 0).astype(int)\n",
    "    df[\"v10\"] = df[\"v10\"].abs()\n",
    "    df[\"u10\"] = df[\"u10\"].abs()\n",
    "    df = df.drop([\"time\", \"valid_time\", \"local_time\", \"season\"], axis=1)\n",
    "\n",
    "    # Drop columns which names contain '60'\n",
    "    df = df.loc[:, ~df.columns.str.contains(\"60\")]\n",
    "\n",
    "    # Drop all columns which names contain 'after', except it contains 'shsr' AND 'after'\n",
    "    cols_contains_after = df.filter(regex=\"after\").columns\n",
    "    cols_shsr_after = df.filter(regex=\"SHSR.*after\").columns\n",
    "    cols_to_drop = [col for col in cols_contains_after if col not in cols_shsr_after]\n",
    "    df = df.drop(columns=cols_to_drop)\n",
    "\n",
    "    # 填充 NaN 值，这里以均值为例\n",
    "    df.fillna(df.mean(), inplace=True)\n",
    "    return df"
   ]
  },
  {
   "cell_type": "code",
   "execution_count": 7,
   "metadata": {},
   "outputs": [],
   "source": [
    "df_train=preprocess_data(df_train)\n",
    "df_test=preprocess_data(df_test)"
   ]
  },
  {
   "cell_type": "code",
   "execution_count": 8,
   "metadata": {},
   "outputs": [],
   "source": [
    "# only keep SHSR related columns\n",
    "def keep_shsr_columns(df):\n",
    "    for col in df.columns:\n",
    "        if \"SHSR\" not in col and col != \"lightning\":\n",
    "            df = df.drop(col, axis=1)\n",
    "    return df"
   ]
  },
  {
   "cell_type": "code",
   "execution_count": 9,
   "metadata": {},
   "outputs": [],
   "source": [
    "df_train = keep_shsr_columns(df_train)\n",
    "df_test = keep_shsr_columns(df_test)"
   ]
  },
  {
   "cell_type": "code",
   "execution_count": 10,
   "metadata": {},
   "outputs": [],
   "source": [
    "Y_train = df_train[\"lightning\"]\n",
    "Y_test = df_test[\"lightning\"]"
   ]
  },
  {
   "cell_type": "code",
   "execution_count": 11,
   "metadata": {},
   "outputs": [],
   "source": [
    "X_train = df_train.drop(\"lightning\", axis=1)\n",
    "X_test = df_test.drop(\"lightning\", axis=1)"
   ]
  },
  {
   "cell_type": "code",
   "execution_count": 14,
   "metadata": {},
   "outputs": [
    {
     "name": "stderr",
     "output_type": "stream",
     "text": [
      "/Users/maxyxf/.pyenv/versions/3.8.12/lib/python3.8/site-packages/sklearn/linear_model/_logistic.py:460: ConvergenceWarning: lbfgs failed to converge (status=1):\n",
      "STOP: TOTAL NO. of ITERATIONS REACHED LIMIT.\n",
      "\n",
      "Increase the number of iterations (max_iter) or scale the data as shown in:\n",
      "    https://scikit-learn.org/stable/modules/preprocessing.html\n",
      "Please also refer to the documentation for alternative solver options:\n",
      "    https://scikit-learn.org/stable/modules/linear_model.html#logistic-regression\n",
      "  n_iter_i = _check_optimize_result(\n"
     ]
    },
    {
     "name": "stdout",
     "output_type": "stream",
     "text": [
      "Accuracy: 0.7789167554493363\n",
      "Precision: 0.7948352055476869\n",
      "Recall: 0.7964418487750204\n",
      "F1 Score: 0.7956377160824616\n",
      "Confusion Matrix:\n",
      "[[363142 115739]\n",
      " [114601 448388]]\n",
      "False Acceptance Rate (FAR): 0.24168634796536093\n",
      "Probability of Detection (POD): 0.7964418487750204\n"
     ]
    }
   ],
   "source": [
    "from sklearn.linear_model import LogisticRegression\n",
    "from sklearn.metrics import (\n",
    "    accuracy_score,\n",
    "    precision_score,\n",
    "    recall_score,\n",
    "    f1_score,\n",
    "    confusion_matrix,\n",
    ")\n",
    "\n",
    "# 创建逻辑回归模型\n",
    "model = LogisticRegression()\n",
    "\n",
    "# 训练模型\n",
    "model.fit(X_train, Y_train)\n",
    "\n",
    "# 预测测试集\n",
    "Y_pred = model.predict(X_test)\n",
    "\n",
    "# 计算准确率\n",
    "accuracy = accuracy_score(Y_test, Y_pred)\n",
    "print(\"Accuracy:\", accuracy)\n",
    "\n",
    "# 计算精确度\n",
    "precision = precision_score(Y_test, Y_pred)\n",
    "print(\"Precision:\", precision)\n",
    "\n",
    "# 计算召回率\n",
    "recall = recall_score(Y_test, Y_pred)\n",
    "print(\"Recall:\", recall)\n",
    "\n",
    "# 计算F1-score\n",
    "f1 = f1_score(Y_test, Y_pred)\n",
    "print(\"F1 Score:\", f1)\n",
    "\n",
    "# plot the confusion matrix\n",
    "cm = confusion_matrix(Y_test, Y_pred)\n",
    "print(\"Confusion Matrix:\")\n",
    "print(cm)\n",
    "\n",
    "# 计算混淆矩阵\n",
    "tn, fp, fn, tp = confusion_matrix(Y_test, Y_pred).ravel()\n",
    "\n",
    "# 计算FAR (False Acceptance Rate)\n",
    "far = fp / (fp + tn)\n",
    "print(\"False Acceptance Rate (FAR):\", far)\n",
    "\n",
    "# 计算POD (Probability of Detection)\n",
    "pod = tp / (tp + fn)\n",
    "print(\"Probability of Detection (POD):\", pod)"
   ]
  },
  {
   "cell_type": "code",
   "execution_count": 13,
   "metadata": {},
   "outputs": [
    {
     "data": {
      "image/png": "[encoded data removed]",
      "text/plain": [
       "<Figure size 640x480 with 2 Axes>"
      ]
     },
     "metadata": {},
     "output_type": "display_data"
    }
   ],
   "source": [
    "from sklearn.metrics import ConfusionMatrixDisplay\n",
    "import matplotlib.pyplot as plt\n",
    "\n",
    "cm = confusion_matrix(Y_test, Y_pred)\n",
    "\n",
    "# Display the confusion matrix\n",
    "disp = ConfusionMatrixDisplay(confusion_matrix=cm)\n",
    "disp.plot(cmap=\"Blues\")\n",
    "plt.title(\"Logistic Regression\")  # Adding a title\n",
    "plt.show()  # This will display the plot with the title"
   ]
  }
 ],
 "metadata": {
  "kernelspec": {
   "display_name": "cartopy-dev",
   "language": "python",
   "name": "python3"
  },
  "language_info": {
   "codemirror_mode": {
    "name": "ipython",
    "version": 3
   },
   "file_extension": ".py",
   "mimetype": "text/x-python",
   "name": "python",
   "nbconvert_exporter": "python",
   "pygments_lexer": "ipython3",
   "version": "3.8.12"
  }
 },
 "nbformat": 4,
 "nbformat_minor": 2
}
